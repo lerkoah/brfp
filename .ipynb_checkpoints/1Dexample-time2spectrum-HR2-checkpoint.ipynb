{
 "cells": [
  {
   "cell_type": "code",
   "execution_count": 1,
   "metadata": {},
   "outputs": [],
   "source": [
    "import numpy as np\n",
    "import matplotlib.pyplot as plt\n",
    "%matplotlib inline"
   ]
  },
  {
   "cell_type": "code",
   "execution_count": null,
   "metadata": {},
   "outputs": [],
   "source": [
    "x = np.loadtxt('hr2.txt')\n",
    "x = x-np.mean(x)\n",
    "n = x.shape[0]\n",
    "t = np.arange(n)\n",
    "# t = np.linspace(0,10,n)\n",
    "# x = 10*np.cos(2*np.pi*0.5*t) - 5*np.sin(2*np.pi*1.0*t)\n",
    "plt.figure(figsize=(15,3))\n",
    "plt.plot(t,x, '.-')"
   ]
  },
  {
   "cell_type": "markdown",
   "metadata": {},
   "source": [
    "# Observations"
   ]
  },
  {
   "cell_type": "code",
   "execution_count": 3,
   "metadata": {},
   "outputs": [],
   "source": [
    "np.random.seed(39)\n",
    "n_obs = np.ceil(0.1*n).astype('int')\n",
    "time_index_obs = np.sort(np.random.choice(np.arange(int(n)), size=n_obs, replace=False))\n",
    "t_obs = t[time_index_obs]\n",
    "x_obs = x[time_index_obs]\n",
    "sigma_noise = 5e-1\n",
    "x_obs = x_obs + sigma_noise*np.random.randn(n_obs)"
   ]
  },
  {
   "cell_type": "markdown",
   "metadata": {},
   "source": [
    "# BRFP"
   ]
  },
  {
   "cell_type": "code",
   "execution_count": 4,
   "metadata": {},
   "outputs": [],
   "source": [
    "from BRFP.functions import *"
   ]
  },
  {
   "cell_type": "code",
   "execution_count": 5,
   "metadata": {},
   "outputs": [
    {
     "name": "stdout",
     "output_type": "stream",
     "text": [
      "Condicion inicial optimizador:  [2.  0.1 1. ]\n",
      "['Derivatives: ', -1282.3471400882638, 41.20261018611275, -443.70819134887626]\n",
      "['Derivatives: ', -12.29747281137218, 2.970794055867603, -10.651835565927897]\n",
      "['Derivatives: ', -6.036746991472553, 2.915374147067071, -10.022940441368423]\n",
      "['Derivatives: ', 8.131970054882636, 2.918117183969634, -9.008085854863355]\n",
      "['Derivatives: ', 20.100207292129156, 3.147252831600368, -8.717268653442051]\n",
      "['Derivatives: ', 68.72297858065374, 5.130757132190244, -5.7683448812733715]\n",
      "['Derivatives: ', 110.35720492605007, 8.560517725842708, 12.595550622227908]\n",
      "['Derivatives: ', 88.95322785030824, 6.695051950174207, -0.6899878756258931]\n",
      "['Derivatives: ', 115.01577917660543, 11.397887915719888, 28.768861741644486]\n",
      "['Derivatives: ', 97.60212389226038, 13.08853719727695, 14.885396323615621]\n",
      "['Derivatives: ', 49.835198604018366, 46.323909431525344, 129.4836167240432]\n",
      "['Derivatives: ', -184.11857360549067, 7.63590889471519, 9.290536115397602]\n",
      "['Derivatives: ', 21.315770673833686, 60.94116509172885, 107.69912365699473]\n",
      "['Derivatives: ', -57827.20235419934, -37670.127778800554, -9497.112997895341]\n",
      "['Derivatives: ', -144.1792279676952, 23.419945047683324, 39.23042989137223]\n",
      "['Derivatives: ', -17.293838637714398, 63.161290355036016, 88.57450954019208]\n",
      "['Derivatives: ', -271.1491971623751, -60.74483258885728, -179.26458476297807]\n",
      "['Derivatives: ', -71.02478730029902, 44.45494896579407, 2.780159148837079]\n",
      "['Derivatives: ', -38.624593254440214, 44.4667329087225, -90.81336042464503]\n",
      "['Derivatives: ', -84.40722561508522, -23.69840901077248, -95.83248252981353]\n",
      "['Derivatives: ', 20.678178934732422, 8.90800927753697, -17.844887382836067]\n",
      "['Derivatives: ', 5.212703998392774, 3.4060679044396123, -7.697537266657417]\n",
      "['Derivatives: ', -1.2701681317714222, -0.39870813586112186, -1.611367156939266]\n",
      "['Derivatives: ', -0.2891313259635897, -0.06257441742920383, -0.33078620034623274]\n",
      "['Derivatives: ', -0.0015704796393887221, 0.0016665999819384103, 0.0001913975940537327]\n",
      "['Derivatives: ', -5.660941917895457e-06, 0.00010673124461801908, 0.0001503053472955429]\n",
      "['Derivatives: ', 7.736007407999068e-07, 6.052025214309253e-07, 2.7054686579930376e-06]\n",
      "Hiperparametros encontrados:  1.1347229346541865 0.002918211878440583 5.337203131922357\n",
      "Negative log-likelihood para hiperámetros optimizados:  440.40024944093864\n"
     ]
    },
    {
     "data": {
      "text/plain": [
       "True"
      ]
     },
     "execution_count": 5,
     "metadata": {},
     "output_type": "execute_result"
    }
   ],
   "source": [
    "brfp = BRFP(t)\n",
    "brfp.train(x_obs,t_obs)"
   ]
  },
  {
   "cell_type": "code",
   "execution_count": 6,
   "metadata": {},
   "outputs": [
    {
     "name": "stdout",
     "output_type": "stream",
     "text": [
      "Computing BRFP covariances matrixes...done.\n"
     ]
    }
   ],
   "source": [
    "res = brfp.predict()"
   ]
  },
  {
   "cell_type": "code",
   "execution_count": 7,
   "metadata": {},
   "outputs": [
    {
     "ename": "ValueError",
     "evalue": "not enough values to unpack (expected 5, got 4)",
     "output_type": "error",
     "traceback": [
      "\u001b[0;31m---------------------------------------------------------------------------\u001b[0m",
      "\u001b[0;31mValueError\u001b[0m                                Traceback (most recent call last)",
      "\u001b[0;32m<ipython-input-7-9cfdc16ad71c>\u001b[0m in \u001b[0;36m<module>\u001b[0;34m\u001b[0m\n\u001b[0;32m----> 1\u001b[0;31m \u001b[0mxmodel\u001b[0m\u001b[0;34m,\u001b[0m \u001b[0mxmodel_var\u001b[0m\u001b[0;34m,\u001b[0m \u001b[0mXmodel\u001b[0m\u001b[0;34m,\u001b[0m \u001b[0mXmodel_var\u001b[0m\u001b[0;34m,\u001b[0m \u001b[0mw\u001b[0m \u001b[0;34m=\u001b[0m \u001b[0mres\u001b[0m\u001b[0;34m[\u001b[0m\u001b[0;34m'x'\u001b[0m\u001b[0;34m]\u001b[0m\u001b[0;34m,\u001b[0m \u001b[0mres\u001b[0m\u001b[0;34m[\u001b[0m\u001b[0;34m'x_var'\u001b[0m\u001b[0;34m]\u001b[0m\u001b[0;34m,\u001b[0m \u001b[0mres\u001b[0m\u001b[0;34m[\u001b[0m\u001b[0;34m'X'\u001b[0m\u001b[0;34m]\u001b[0m\u001b[0;34m,\u001b[0m \u001b[0mres\u001b[0m\u001b[0;34m[\u001b[0m\u001b[0;34m'X_var'\u001b[0m\u001b[0;34m]\u001b[0m\u001b[0;34m\u001b[0m\u001b[0;34m\u001b[0m\u001b[0m\n\u001b[0m",
      "\u001b[0;31mValueError\u001b[0m: not enough values to unpack (expected 5, got 4)"
     ]
    }
   ],
   "source": [
    "xmodel, xmodel_var, Xmodel, Xmodel_var, w = res['x'], res['x_var'], res['X'], res['X_var']"
   ]
  },
  {
   "cell_type": "code",
   "execution_count": null,
   "metadata": {},
   "outputs": [],
   "source": [
    "plt.figure(figsize=(15,3))\n",
    "plt.plot(t,x, label='True')\n",
    "plt.plot(t,xmodel,'r', label='BRFP')\n",
    "plt.fill_between(t, (xmodel + 2* np.sqrt(xmodel_var)), (xmodel - 2* np.sqrt(xmodel_var)), alpha=0.3)\n",
    "plt.plot(t_obs, x_obs, 'r.')\n",
    "plt.xlim(t[0],t[-1])\n",
    "plt.grid()\n",
    "plt.title('BRFP time')\n",
    "plt.legend()\n"
   ]
  },
  {
   "cell_type": "code",
   "execution_count": null,
   "metadata": {},
   "outputs": [],
   "source": [
    "plt.figure(figsize=(15,3))\n",
    "plt.plot(w, Xmodel.real)\n",
    "plt.fill_between(brfp.w, (Xmodel.real + 2* np.sqrt(Xmodel_var.real)), (Xmodel.real - 2* np.sqrt(Xmodel_var.real)), alpha=0.3)\n",
    "plt.xlim(0, 0.02)\n",
    "plt.grid()\n",
    "plt.title('Real BRFP spectrum')\n",
    "\n",
    "plt.figure(figsize=(15,3))\n",
    "plt.plot(w, Xmodel.imag)\n",
    "plt.fill_between(brfp.w, (Xmodel.imag + 2* np.sqrt(Xmodel_var.imag)), (Xmodel.imag - 2* np.sqrt(Xmodel_var.imag)), alpha=0.3)\n",
    "plt.xlim(0, 0.02)\n",
    "plt.grid()\n",
    "plt.title('Imag BRFP spectrum')"
   ]
  },
  {
   "cell_type": "code",
   "execution_count": null,
   "metadata": {},
   "outputs": [],
   "source": []
  },
  {
   "cell_type": "code",
   "execution_count": null,
   "metadata": {},
   "outputs": [],
   "source": []
  }
 ],
 "metadata": {
  "kernelspec": {
   "display_name": "Python 3",
   "language": "python",
   "name": "python3"
  },
  "language_info": {
   "codemirror_mode": {
    "name": "ipython",
    "version": 3
   },
   "file_extension": ".py",
   "mimetype": "text/x-python",
   "name": "python",
   "nbconvert_exporter": "python",
   "pygments_lexer": "ipython3",
   "version": "3.7.4"
  }
 },
 "nbformat": 4,
 "nbformat_minor": 2
}
